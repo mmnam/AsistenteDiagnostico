{
 "cells": [
  {
   "cell_type": "code",
   "execution_count": 1,
   "id": "97a57d68",
   "metadata": {},
   "outputs": [],
   "source": [
    "import pandas as pd\n",
    "import numpy as np\n",
    "from langchain.vectorstores import FAISS\n",
    "from langchain.text_splitter import CharacterTextSplitter\n",
    "from langchain_ollama import OllamaEmbeddings\n",
    "import ollama\n",
    "import kagglehub\n",
    "import os"
   ]
  },
  {
   "cell_type": "code",
   "execution_count": 2,
   "id": "58bf7539",
   "metadata": {},
   "outputs": [
    {
     "name": "stdout",
     "output_type": "stream",
     "text": [
      "Path to dataset files: C:\\Users\\manue\\.cache\\kagglehub\\datasets\\uom190346a\\disease-symptoms-and-patient-profile-dataset\\versions\\2\n"
     ]
    }
   ],
   "source": [
    "# Se descargó el dataset \"Disease Symptoms and Patient Profile Dataset\". \n",
    "# Como los contenidos están en inglés, se escribió el código en inglés\n",
    "# Se descarga la última version del dataset de Kaggle\n",
    "path = kagglehub.dataset_download(\"uom190346a/disease-symptoms-and-patient-profile-dataset\")\n",
    "print(\"Path to dataset files:\", path)\n",
    "# Se guarda en un csv\n",
    "df_medical = pd.read_csv(os.path.join(path, \"Disease_symptom_and_patient_profile_dataset.csv\"))"
   ]
  },
  {
   "cell_type": "code",
   "execution_count": 3,
   "id": "6b313360",
   "metadata": {},
   "outputs": [],
   "source": [
    "# Se convierte el data frame a text para que pueda ser incluido en el contexto posteriormente\n",
    "# se convierte cada fila en una descripción clínica\n",
    "# Cada fila se añade a una lista, para que cada chunk corresponda a una línea\n",
    "texts = []\n",
    "\n",
    "for idx, row in df_medical.iterrows():\n",
    "    disease = row['Disease']\n",
    "    fever = row['Fever']\n",
    "    cough = row['Cough']\n",
    "    fatigue = row['Fatigue']\n",
    "    breathing = row['Difficulty Breathing']\n",
    "    age = row['Age']\n",
    "    gender = row['Gender']\n",
    "    blood_pressure = row['Blood Pressure']\n",
    "    cholesterol = row['Cholesterol Level']\n",
    "    outcome = row['Outcome Variable']\n",
    "\n",
    "    # Se hace una linea por cada enfermedad y paciente\n",
    "    description = (\n",
    "        f\"Disease: {disease}. \"\n",
    "        f\"Symptoms - Fever: {fever}, Cough: {cough}, Fatigue: {fatigue}, Difficulty Breathing: {breathing}. \"\n",
    "        f\"Patient Profile - Age: {age}, Gender: {gender}, Blood Pressure: {blood_pressure}, Cholesterol Level: {cholesterol}. \"\n",
    "        f\"Diagnosis Outcome: {outcome}.\"\n",
    "    )\n",
    "    \n",
    "    texts.append(description)"
   ]
  },
  {
   "cell_type": "code",
   "execution_count": 4,
   "id": "ed8f9598",
   "metadata": {},
   "outputs": [],
   "source": [
    "# Se crean los embeddings y un almacen FAISS\n",
    "# Se está usando un modelo de embedding ligero debido a los pocos recursos que tiene mi computadora\n",
    "# Cada string en la lista es un chunk y un embedding. \n",
    "# Es la mejor opción aquí, para asegurar que las diferentes enfermedades no se mezclen en cada uno de los chunks (una enfermedad = un chunk)\n",
    "embeddings = OllamaEmbeddings(model=\"all-minilm:33m\")\n",
    "vectorstore = FAISS.from_texts(texts, embeddings)"
   ]
  },
  {
   "cell_type": "code",
   "execution_count": 5,
   "id": "15edfea9",
   "metadata": {},
   "outputs": [],
   "source": [
    "# Aquí se recuperan las entradas más relevantes de la base de datos de vectores usando la similaridad semántica.\n",
    "def retrieve_medical_info(question, vectorstore):\n",
    "    # Se obtienen los 5 más similares basado en la similaridad de cosenos\n",
    "    results = vectorstore.similarity_search_with_score(question, k=5)\n",
    "    filtered_results = [doc for doc, score in results]\n",
    "    return filtered_results"
   ]
  },
  {
   "cell_type": "code",
   "execution_count": 6,
   "id": "ba678fa8",
   "metadata": {},
   "outputs": [],
   "source": [
    "def medical_diagnosis_assistant(question, vectorstore):\n",
    "    # Se recupera el conocimiento médico\n",
    "    medical_contexts = retrieve_medical_info(question, vectorstore)\n",
    "    \n",
    "    # Aquí se le indica que si no hay contexto, la función termina aquí, evita alucinaciones\n",
    "    if not medical_contexts:\n",
    "        return \"I do not have sufficient information to provide a reliable diagnosis.\"\n",
    "\n",
    "    # Se combinan todos los strings en un sólo contexto \n",
    "    context = \"\\n\".join([doc.page_content for doc in medical_contexts])\n",
    "\n",
    "    # Se contruye el prompt (instrucciones + contexto + pregunta)\n",
    "    prompt = f\"\"\"\n",
    "You are a medical assistant trained to interpret structured case descriptions and symptom profiles.\n",
    "\n",
    "Using only the information from the context below, identify what condition or disease could explain the presented symptoms. \n",
    "\n",
    "If the answer is unclear or incomplete, try to provide the most likely explanation based on the available context.\n",
    "If the answer is not found in the context, say:\n",
    "\"I do not have sufficient information to provide a reliable diagnosis.\"\n",
    "\n",
    "Context:\n",
    "{context}\n",
    "\n",
    "Question:\n",
    "{question}\n",
    "\n",
    "Answer:\n",
    "\"\"\"\n",
    "    # Aquí se le envía el prompt completo al modelo. Se puede usar un modelo más avanzado\n",
    "    response = ollama.chat(\n",
    "        model=\"llama3.2:1b\",\n",
    "        messages=[{\"role\": \"user\", \"content\": prompt}]\n",
    "    )\n",
    "\n",
    "    return response['message']['content']"
   ]
  },
  {
   "cell_type": "code",
   "execution_count": 9,
   "id": "9736ecc0",
   "metadata": {},
   "outputs": [
    {
     "name": "stdout",
     "output_type": "stream",
     "text": [
      "\n",
      "Question: What condition is associated with chest pain and fatigue?\n",
      "Answer: Based on the context provided, the condition that could explain the symptoms of chest pain and fatigue is Coronary Artery Disease (CAD). This is because CAD typically presents with:\n",
      "\n",
      "- Chest pain or discomfort\n",
      "- Fatigue\n",
      "- Difficulty breathing\n",
      "\n",
      "These symptoms are consistent with the described presentation in multiple case descriptions, including Myocardial Infarction, Hypertensive Heart Disease, and Coronary Artery Disease. The fact that a patient can be diagnosed as having CAD even if they have hypertension (high blood pressure) or high cholesterol levels indicates that chest pain and fatigue can be associated with CAD.\n",
      "\n",
      "Additionally, the diagnosis outcome is positive for patients with coronary artery disease in multiple case descriptions, further supporting this conclusion.\n"
     ]
    }
   ],
   "source": [
    "question = \"What condition is associated with chest pain and fatigue?\"\n",
    "\n",
    "answer = medical_diagnosis_assistant(question, vectorstore)\n",
    "\n",
    "print(\"\\nQuestion:\", question)\n",
    "print(\"Answer:\", answer)"
   ]
  },
  {
   "cell_type": "code",
   "execution_count": null,
   "id": "dda58029",
   "metadata": {},
   "outputs": [],
   "source": []
  }
 ],
 "metadata": {
  "kernelspec": {
   "display_name": "Python 3 (ipykernel)",
   "language": "python",
   "name": "python3"
  },
  "language_info": {
   "codemirror_mode": {
    "name": "ipython",
    "version": 3
   },
   "file_extension": ".py",
   "mimetype": "text/x-python",
   "name": "python",
   "nbconvert_exporter": "python",
   "pygments_lexer": "ipython3",
   "version": "3.9.21"
  }
 },
 "nbformat": 4,
 "nbformat_minor": 5
}
